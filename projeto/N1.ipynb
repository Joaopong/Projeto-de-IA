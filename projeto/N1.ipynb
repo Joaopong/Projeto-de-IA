{
 "cells": [
  {
   "cell_type": "markdown",
   "id": "2176ccad",
   "metadata": {},
   "source": [
    "\n",
    "# Sistema de Predição de Doenças Cardiovasculares —  N1\n",
    "\n",
    "**Disciplina:** Inteligência Artificial – 7ºJ SI – Noite  \n",
    "**Professor:** Prof. Dr. Leandro Zerbinatti  \n",
    "**Bimestre:** N1 — Proposta, Dataset, Análise Exploratória e Preparação dos Dados \n",
    "\n",
    "---\n",
    "\n",
    "## Identificação do Arquivo (Cabeçalho exigido no GitHub – N1)\n",
    "- **Integrante(s):** _Preencha com Nome, RA, E-mail_  \n",
    "- **Descrição:** Notebook de **Análise Exploratória ** e **Preparação dos Dados** para predição de doença cardiovascular. \n",
    "- **Histórico de alterações:**  \n"
   ]
  },
  {
   "cell_type": "code",
   "execution_count": 2,
   "id": "d24e8327",
   "metadata": {},
   "outputs": [],
   "source": [
    "import pandas as pd\n",
    "import matplotlib.pyplot as plt\n"
   ]
  }
 ],
 "metadata": {
  "kernelspec": {
   "display_name": "Python 3",
   "language": "python",
   "name": "python3"
  },
  "language_info": {
   "codemirror_mode": {
    "name": "ipython",
    "version": 3
   },
   "file_extension": ".py",
   "mimetype": "text/x-python",
   "name": "python",
   "nbconvert_exporter": "python",
   "pygments_lexer": "ipython3",
   "version": "3.12.1"
  }
 },
 "nbformat": 4,
 "nbformat_minor": 5
}
